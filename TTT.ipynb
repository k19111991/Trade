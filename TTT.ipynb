{
 "cells": [
  {
   "cell_type": "markdown",
   "id": "559641f0",
   "metadata": {},
   "source": [
    "# Trade System\n",
    "- [x] [Get Binance Data](#Get-Data-from-Binance)\n",
    "- [ ] [Database](#Get-Data)\n",
    "- [ ] [Strategy](#Strategy)\n",
    "- [ ] [Backtesting](#Backtesting)\n",
    "- [ ] [Optimization](#Optimization)\n",
    "- [ ] [Send Order](#Send-Order)"
   ]
  },
  {
   "cell_type": "markdown",
   "id": "2426acc7",
   "metadata": {},
   "source": [
    "### API parameter\n",
    "    https://binance-docs.github.io/apidocs/futures/cn/#api\n",
    "### OrderTypes\n",
    "    LIMIT, MARKET, STOP, STOP_MARKET, TAKE_PROFIT, TAKE_PROFIT_MARKET, TRAILING_STOP_MARKET\n",
    "### Side\n",
    "    BUY, SELL\n",
    "### Interval\n",
    "    1m, 3m, 5m, 15m, 30m, 1h, 2h, 4h, 6h, 8h, 12h, 1d, 3d, 1w, 1M\n",
    "### Exchange information\n",
    "    https://api.binance.com/api/v1/exchangeInfo\n",
    "### Trades (from ID)\n",
    "    /fapi/v1/trades  \n",
    "    /fapi/v1/historicalTrades\n",
    "### K lines\n",
    "    /fapi/v1/klines  \n",
    "    https://binance-docs.github.io/apidocs/futures/cn/#k  \n",
    "    https://binance-docs.github.io/apidocs/futures/cn/#k-6  \n",
    "|name\t|type\t|require |discription |\n",
    "| ---   | ---   | ---    | ---        |\n",
    "|symbol|STRING\t|YES |交易對|\n",
    "|interval |ENUM\t|YES |時間間隔|\n",
    "|startTime |LONG |NO |起始時間|\n",
    "|endTime |LONG |NO |結束時間|\n",
    "|limit |INT |NO |筆數 default:500 max:1500| \n"
   ]
  },
  {
   "cell_type": "code",
   "execution_count": 7,
   "id": "87990b36",
   "metadata": {},
   "outputs": [],
   "source": [
    "import requests\n",
    "import numpy as np\n",
    "import pandas as pd\n",
    "from enum import Enum\n",
    "from datetime import datetime"
   ]
  },
  {
   "cell_type": "markdown",
   "id": "20711851",
   "metadata": {},
   "source": [
    "## Get Data from Binance"
   ]
  },
  {
   "cell_type": "code",
   "execution_count": 8,
   "id": "194b460b",
   "metadata": {},
   "outputs": [],
   "source": [
    "class Interval(Enum):\n",
    "    \"\"\"\n",
    "    Interval for klines\n",
    "    \n",
    "    \"\"\"\n",
    "    Minute_1 = '1m'\n",
    "    Minute_3 = '3m'\n",
    "    Minute_5 = '5m'\n",
    "    Minute_15 = '15m'\n",
    "    Minute_30 = '30m'\n",
    "    Hour_1 = '1h'\n",
    "    Hour_2 = '2h'\n",
    "    Hour_4 = '4h'\n",
    "    Hour_6 = '6h'\n",
    "    Hour_8 = '8h'\n",
    "    Hour_12 = '12h'\n",
    "    Day_1 = '1d'\n",
    "    Day_3 = '3d'\n",
    "    Week_1 = '1w'\n",
    "    Month_1 = '1M'\n",
    "    \n",
    "class OrderType(Enum):\n",
    "    \"\"\"\n",
    "    Order type\n",
    "    \n",
    "    \"\"\"\n",
    "    LIMIT = \"LIMIT\"\n",
    "    MARKET = \"MARKET\"\n",
    "    STOP = \"STOP\"\n",
    "    TAKE_PROFIT = \"TAKE_PROFIT\"\n",
    "    STOP_MARKET = \"STOP_MARKET\"\n",
    "    TAKE_PROFIT_MARKET = \"TAKE_PROFIT_MARKET\"\n",
    "    TRAILING_STOP_MARKET = \"TRAILING_STOP_MARKET\"\n",
    "\n",
    "\n",
    "class positionside(Enum):\n",
    "    BOTH = 'BOTH'\n",
    "    LONG = 'LONG'\n",
    "    SHORT = 'SHORT'\n",
    "\n",
    "class TimeInForce(Enum):\n",
    "    GTC=\"GTC\"\n",
    "    IOD=\"IOC\"\n",
    "    FOK=\"FOK\"\n",
    "    GTX=\"GTX\"\n",
    "\n",
    "class OrderSide(Enum):\n",
    "    \"\"\"\n",
    "    Order Side\n",
    "    \n",
    "    \"\"\"\n",
    "    BUY = \"BUY\"\n",
    "    SELL = \"SELL\"\n",
    "\n",
    "class contractType(Enum):\n",
    "    PERPETUAL = \"PERPETUAL\"\n",
    "    CURRENT_MONTH = \"CURRENT_MONTH\"\n",
    "    NEXT_MONTH = \"NEXT_MONTH\"\n",
    "    CURRENT_QUARTER = \"CURRENT_QUARTER\"\n",
    "    NEXT_QUARTER = \"NEXT_QUARTER\""
   ]
  },
  {
   "cell_type": "code",
   "execution_count": 9,
   "id": "eaa535d9",
   "metadata": {},
   "outputs": [],
   "source": [
    "def get_exchange_info():\n",
    "    \"\"\"\n",
    "    All Coin List\n",
    "    \n",
    "    \"\"\"\n",
    "    return requests.get(\"https://api.binance.com/api/v1/exchangeInfo\").json()"
   ]
  },
  {
   "cell_type": "code",
   "execution_count": 10,
   "id": "dcf834bc",
   "metadata": {},
   "outputs": [],
   "source": [
    "def get_symbol(target: str = None, margined = \"USDT\", status = \"TRADING\"):\n",
    "    \"\"\"\n",
    "    Get Specific Symbol List\n",
    "    \n",
    "    \"\"\"\n",
    "    SymbolList = get_exchange_info()\n",
    "    SymbolList = [s[\"symbol\"] for s in SymbolList[\"symbols\"] if s[\"status\"] == status]\n",
    "    if target:\n",
    "        SymbolList = [s for s in SymbolList if s[:len(target)] == target]\n",
    "    if margined:\n",
    "        SymbolList = [s for s in SymbolList if s[-len(margined):] == margined]\n",
    "    return SymbolList"
   ]
  },
  {
   "cell_type": "code",
   "execution_count": 11,
   "id": "a7322174",
   "metadata": {},
   "outputs": [],
   "source": [
    "def datetime_timestamp(year, month, day, hour = 0, min = 0, second = 0):\n",
    "    \"\"\"\n",
    "    Milliseconds Timestamp | UTC +8\n",
    "    \"\"\"\n",
    "    time = datetime(year, month, day, hour, min, second).timestamp()\n",
    "    return int(time) * 1000"
   ]
  },
  {
   "cell_type": "code",
   "execution_count": 12,
   "id": "73451e63",
   "metadata": {},
   "outputs": [],
   "source": [
    "def get_klines(symbol: str, interval, starttime=None, endtime=None, limit=1000):\n",
    "    \"\"\"\n",
    "    Get Historical Klines from Binance\n",
    "    \n",
    "    Parameters\n",
    "    ----------\n",
    "    symbol : list of str\n",
    "    interval : str\n",
    "        Time scale can be 1m, 3m, 5m, 15m, 30m, 1h, 2h, 4h, 6h, 8h, 12h, 1d, 3d, 1w, 1M\n",
    "    starttime : int\n",
    "        Timestamp\n",
    "        \n",
    "    Returns\n",
    "    -------\n",
    "    out : list\n",
    "    \n",
    "    \"\"\"\n",
    "    params = {\"symbol\": symbol,\n",
    "              \"interval\": interval,\n",
    "              \"limit\": limit}\n",
    "    if starttime:\n",
    "        params[\"startTime\"] = starttime\n",
    "    if endtime:\n",
    "        params[\"endTime\"] = endtime\n",
    "    url = \"https://api.binance.com/api/v3/klines\"\n",
    "    \n",
    "    data = []\n",
    "    \n",
    "    while starttime <= endtime:\n",
    "        parameter = \"&\".join(f\"{key}={params[key]}\" for key in params.keys())\n",
    "        path = url + \"?\" + parameter\n",
    "        kline = requests.get(path).json()\n",
    "        print(datetime.fromtimestamp(kline[0][0] / 1000), datetime.fromtimestamp(kline[-1][0] / 1000), len(kline))\n",
    "        data += kline\n",
    "        starttime = kline[-1][0] + 1\n",
    "        params[\"startTime\"] = starttime\n",
    "        \n",
    "    print(\"------\", symbol, \"------\", datetime.fromtimestamp(data[0][0] / 1000), \"-\", datetime.fromtimestamp(data[-1][0] / 1000))    \n",
    "\n",
    "    return data  "
   ]
  },
  {
   "cell_type": "code",
   "execution_count": 13,
   "id": "cfb0452b",
   "metadata": {},
   "outputs": [
    {
     "name": "stdout",
     "output_type": "stream",
     "text": [
      "2021-10-01 00:00:00 2021-10-21 19:30:00 1000\n",
      "2021-10-21 20:00:00 2021-11-11 15:30:00 1000\n",
      "2021-11-11 16:00:00 2021-12-02 11:30:00 1000\n",
      "2021-12-02 12:00:00 2021-12-23 07:30:00 1000\n",
      "2021-12-23 08:00:00 2022-01-13 03:30:00 1000\n",
      "2022-01-13 04:00:00 2022-02-02 23:30:00 1000\n",
      "2022-02-03 00:00:00 2022-02-23 19:30:00 1000\n",
      "2022-02-23 20:00:00 2022-03-16 15:30:00 1000\n",
      "2022-03-16 16:00:00 2022-04-06 11:30:00 1000\n",
      "2022-04-06 12:00:00 2022-04-27 07:30:00 1000\n",
      "2022-04-27 08:00:00 2022-05-18 03:30:00 1000\n",
      "2022-05-18 04:00:00 2022-06-07 23:30:00 1000\n",
      "2022-06-08 00:00:00 2022-06-28 19:30:00 1000\n",
      "2022-06-28 20:00:00 2022-06-30 00:00:00 57\n",
      "------ BTCUSDT ------ 2021-10-01 00:00:00 - 2022-06-30 00:00:00\n"
     ]
    }
   ],
   "source": [
    "symbol_list = [\"BTCUSDT\"]\n",
    "# symbol_list = get_symbol(\"BTC\")\n",
    "interval = Interval.Minute_30.value\n",
    "start_time = datetime_timestamp(2021, 10, 1, 0, 0, 0)\n",
    "end_time = datetime_timestamp(2022, 6, 30, 0, 0, 0)\n",
    "column_name = [\"Open time\", \"Open\", \"High\", \"Low\", \"Close\", \"Volume\", \"Close time\", \"Quote asset volume\", \n",
    "       \"Number of trades\", \"Taker buy base asset volume\", \"Taker buy quote asset volume\", \"Ignore\"]\n",
    "Data = pd.DataFrame(get_klines(\"BTCUSDT\", interval, start_time, end_time), columns = column_name)"
   ]
  },
  {
   "cell_type": "markdown",
   "id": "868aa818",
   "metadata": {},
   "source": [
    "## Get Data"
   ]
  },
  {
   "cell_type": "code",
   "execution_count": 14,
   "id": "75d823ff",
   "metadata": {},
   "outputs": [],
   "source": [
    "col = [\"Open time\", \"Open\", \"High\", \"Low\", \"Close\", \"Volume\"]\n",
    "df = Data[col]\n",
    "df = df.rename({\"Open time\": 'Date'}, axis=1)\n",
    "df.Date = (df[\"Date\"] / 1000).apply(datetime.fromtimestamp)\n",
    "df = df.astype({col: float for col in df.columns[1:]})"
   ]
  },
  {
   "cell_type": "code",
   "execution_count": 15,
   "id": "962cb407",
   "metadata": {
    "scrolled": true
   },
   "outputs": [
    {
     "data": {
      "text/html": [
       "<div>\n",
       "<style scoped>\n",
       "    .dataframe tbody tr th:only-of-type {\n",
       "        vertical-align: middle;\n",
       "    }\n",
       "\n",
       "    .dataframe tbody tr th {\n",
       "        vertical-align: top;\n",
       "    }\n",
       "\n",
       "    .dataframe thead th {\n",
       "        text-align: right;\n",
       "    }\n",
       "</style>\n",
       "<table border=\"1\" class=\"dataframe\">\n",
       "  <thead>\n",
       "    <tr style=\"text-align: right;\">\n",
       "      <th></th>\n",
       "      <th>Date</th>\n",
       "      <th>Open</th>\n",
       "      <th>High</th>\n",
       "      <th>Low</th>\n",
       "      <th>Close</th>\n",
       "      <th>Volume</th>\n",
       "    </tr>\n",
       "  </thead>\n",
       "  <tbody>\n",
       "    <tr>\n",
       "      <th>0</th>\n",
       "      <td>2021-10-01 00:00:00</td>\n",
       "      <td>43149.02</td>\n",
       "      <td>43218.00</td>\n",
       "      <td>42914.33</td>\n",
       "      <td>42954.29</td>\n",
       "      <td>801.52103</td>\n",
       "    </tr>\n",
       "    <tr>\n",
       "      <th>1</th>\n",
       "      <td>2021-10-01 00:30:00</td>\n",
       "      <td>42954.30</td>\n",
       "      <td>42997.77</td>\n",
       "      <td>42819.86</td>\n",
       "      <td>42950.67</td>\n",
       "      <td>800.71902</td>\n",
       "    </tr>\n",
       "    <tr>\n",
       "      <th>2</th>\n",
       "      <td>2021-10-01 01:00:00</td>\n",
       "      <td>42950.66</td>\n",
       "      <td>43314.50</td>\n",
       "      <td>42933.29</td>\n",
       "      <td>43017.60</td>\n",
       "      <td>864.06192</td>\n",
       "    </tr>\n",
       "    <tr>\n",
       "      <th>3</th>\n",
       "      <td>2021-10-01 01:30:00</td>\n",
       "      <td>43017.61</td>\n",
       "      <td>43400.00</td>\n",
       "      <td>42906.69</td>\n",
       "      <td>43333.12</td>\n",
       "      <td>1128.33387</td>\n",
       "    </tr>\n",
       "    <tr>\n",
       "      <th>4</th>\n",
       "      <td>2021-10-01 02:00:00</td>\n",
       "      <td>43333.12</td>\n",
       "      <td>43473.45</td>\n",
       "      <td>43261.84</td>\n",
       "      <td>43397.54</td>\n",
       "      <td>616.15522</td>\n",
       "    </tr>\n",
       "    <tr>\n",
       "      <th>...</th>\n",
       "      <td>...</td>\n",
       "      <td>...</td>\n",
       "      <td>...</td>\n",
       "      <td>...</td>\n",
       "      <td>...</td>\n",
       "      <td>...</td>\n",
       "    </tr>\n",
       "    <tr>\n",
       "      <th>13052</th>\n",
       "      <td>2022-06-29 22:00:00</td>\n",
       "      <td>20083.99</td>\n",
       "      <td>20177.31</td>\n",
       "      <td>20036.71</td>\n",
       "      <td>20118.56</td>\n",
       "      <td>2329.46133</td>\n",
       "    </tr>\n",
       "    <tr>\n",
       "      <th>13053</th>\n",
       "      <td>2022-06-29 22:30:00</td>\n",
       "      <td>20118.56</td>\n",
       "      <td>20254.20</td>\n",
       "      <td>20050.10</td>\n",
       "      <td>20126.02</td>\n",
       "      <td>1903.32274</td>\n",
       "    </tr>\n",
       "    <tr>\n",
       "      <th>13054</th>\n",
       "      <td>2022-06-29 23:00:00</td>\n",
       "      <td>20126.01</td>\n",
       "      <td>20142.79</td>\n",
       "      <td>20000.00</td>\n",
       "      <td>20064.34</td>\n",
       "      <td>2048.20718</td>\n",
       "    </tr>\n",
       "    <tr>\n",
       "      <th>13055</th>\n",
       "      <td>2022-06-29 23:30:00</td>\n",
       "      <td>20064.35</td>\n",
       "      <td>20124.71</td>\n",
       "      <td>20030.01</td>\n",
       "      <td>20084.48</td>\n",
       "      <td>1112.31012</td>\n",
       "    </tr>\n",
       "    <tr>\n",
       "      <th>13056</th>\n",
       "      <td>2022-06-30 00:00:00</td>\n",
       "      <td>20084.48</td>\n",
       "      <td>20100.00</td>\n",
       "      <td>19986.08</td>\n",
       "      <td>20020.91</td>\n",
       "      <td>1419.88161</td>\n",
       "    </tr>\n",
       "  </tbody>\n",
       "</table>\n",
       "<p>13057 rows × 6 columns</p>\n",
       "</div>"
      ],
      "text/plain": [
       "                     Date      Open      High       Low     Close      Volume\n",
       "0     2021-10-01 00:00:00  43149.02  43218.00  42914.33  42954.29   801.52103\n",
       "1     2021-10-01 00:30:00  42954.30  42997.77  42819.86  42950.67   800.71902\n",
       "2     2021-10-01 01:00:00  42950.66  43314.50  42933.29  43017.60   864.06192\n",
       "3     2021-10-01 01:30:00  43017.61  43400.00  42906.69  43333.12  1128.33387\n",
       "4     2021-10-01 02:00:00  43333.12  43473.45  43261.84  43397.54   616.15522\n",
       "...                   ...       ...       ...       ...       ...         ...\n",
       "13052 2022-06-29 22:00:00  20083.99  20177.31  20036.71  20118.56  2329.46133\n",
       "13053 2022-06-29 22:30:00  20118.56  20254.20  20050.10  20126.02  1903.32274\n",
       "13054 2022-06-29 23:00:00  20126.01  20142.79  20000.00  20064.34  2048.20718\n",
       "13055 2022-06-29 23:30:00  20064.35  20124.71  20030.01  20084.48  1112.31012\n",
       "13056 2022-06-30 00:00:00  20084.48  20100.00  19986.08  20020.91  1419.88161\n",
       "\n",
       "[13057 rows x 6 columns]"
      ]
     },
     "execution_count": 15,
     "metadata": {},
     "output_type": "execute_result"
    }
   ],
   "source": [
    "df"
   ]
  },
  {
   "cell_type": "markdown",
   "id": "3bacd943",
   "metadata": {},
   "source": [
    "## Strategy"
   ]
  },
  {
   "cell_type": "markdown",
   "id": "0649c758",
   "metadata": {},
   "source": [
    "```\n",
    "def strategy_signal(data, para1, para2...):    \n",
    "    return array\n",
    "```"
   ]
  },
  {
   "cell_type": "code",
   "execution_count": 84,
   "id": "ca05701d",
   "metadata": {},
   "outputs": [
    {
     "data": {
      "text/plain": [
       "'1.4.3'"
      ]
     },
     "execution_count": 84,
     "metadata": {},
     "output_type": "execute_result"
    }
   ],
   "source": [
    "pd.__version__"
   ]
  },
  {
   "cell_type": "code",
   "execution_count": null,
   "id": "05711180",
   "metadata": {},
   "outputs": [],
   "source": [
    "df['MA5'] = pd.rolling_mean(df['Close'], 5)\n",
    "df['MA10'] = pd.rolling_mean(df['Close'], 10)\n",
    "df['MA20'] = pd.rolling_mean(df['Close'], 20)\n",
    "df['RSV'] = (df['Close'] - pd.rolling_min(df['Low'], 9)) / (pd.rolling_max(df['High'], 9) - pd.rolling_min(df['Low'], 9))\n",
    "df['K'] = pd.ewma(df['RSV'], adjust=False, alpha=1/3)\n",
    "df['D'] = pd.ewma(df['K'], adjust=False, alpha=1/3)\n",
    "TR = pd.concat([df[['High', 'Low']], df['Close'].shift(1)], axis=1, ignore_index=True)\n",
    "df['TR'] = TR.max(axis=1) - TR.min(axis=1)\n",
    "df['ATR'] = pd.ewma(df['TR'], adjust=False, alpha=1/15)\n",
    "df['TRMA'] = pd.rolling_mean(df['TR'], 15)\n",
    "df['DM_P'] = np.where((df['High'] - df['High'].shift(1)) > 0, df['High'] - df['High'].shift(1), 0)\n",
    "df['DM_N'] = np.where((df['Low'] - df['Low'].shift(1)) < 0, df['Low'].shift(1) - df['Low'], 0)\n",
    "df['ADM_P'] = pd.ewma(df['DM_P'], adjust=False, alpha=1/15)\n",
    "df['ADM_N'] = pd.ewma(df['DM_N'], adjust=False, alpha=1/15)\n",
    "df['DX'] = ((df['ADM_P'] - df['ADM_N']) / (df['ADM_P'] + df['ADM_N'])).abs() * 100\n",
    "df['ADX'] = pd.ewma(df['DX'], adjust=False, alpha=1/15)"
   ]
  },
  {
   "cell_type": "code",
   "execution_count": 205,
   "id": "e16355bb",
   "metadata": {},
   "outputs": [],
   "source": [
    "def MA(close, num = 20):\n",
    "    \"\"\"\n",
    "    Moving Average\n",
    "    \n",
    "    Parameters\n",
    "    ----------\n",
    "    close: price list\n",
    "    num: lenth\n",
    "    \n",
    "    \"\"\"\n",
    "    return close.rolling(num).mean()\n",
    "\n",
    "def EMA(close, num = 20, adjust = False):\n",
    "    \"\"\"\n",
    "    Exponential Moving Average\n",
    "    \n",
    "    Parameters\n",
    "    ----------\n",
    "    close: price list\n",
    "    num: lenth\n",
    "    \n",
    "    \"\"\"\n",
    "    return close.ewm(span = num, adjust = adjust)\n",
    "    \n",
    "def WMA(close, num = 20, adjust = False):\n",
    "    \"\"\"\n",
    "    Weighted Moving Average\n",
    "    \n",
    "    Parameters\n",
    "    ----------\n",
    "    close: price list\n",
    "    num: lenth\n",
    "    \n",
    "    \"\"\"    \n",
    "    weight = np.arange(1, num + 1) / (0.5 * num * (num + 1))\n",
    "    dot = lambda x: np.dot(weight, x)\n",
    "    close_r = close.rolling(num)\n",
    "    return close_r.apply(dot)\n",
    "    \n",
    "def KD(high, low, close, num = 9, ratio = 1/3, num_slow = 10):\n",
    "    \"\"\"\n",
    "    Stochastic Oscillator\n",
    "    \n",
    "    Parameters\n",
    "    ----------\n",
    "    high, low, close: price list\n",
    "    num: lenth\n",
    "    ratio: \n",
    "    num_slow: \n",
    "    \n",
    "    \"\"\"\n",
    "    RSV = (close - low.rolling(num).min()) / (high.rolling(num).max() - low.rolling(num).min())\n",
    "    K = RSV.ewm(alpha = ratio, adjust = False)\n",
    "    D = K.ewm(alpha = ratio, adjust = False)\n",
    "    return K, D\n",
    "\n",
    "    "
   ]
  },
  {
   "cell_type": "code",
   "execution_count": 59,
   "id": "5586b3ad",
   "metadata": {},
   "outputs": [],
   "source": [
    "a = df.copy()"
   ]
  },
  {
   "cell_type": "code",
   "execution_count": null,
   "id": "1c43f988",
   "metadata": {},
   "outputs": [],
   "source": []
  },
  {
   "cell_type": "code",
   "execution_count": 159,
   "id": "534ef24a",
   "metadata": {},
   "outputs": [
    {
     "data": {
      "text/html": [
       "<div>\n",
       "<style scoped>\n",
       "    .dataframe tbody tr th:only-of-type {\n",
       "        vertical-align: middle;\n",
       "    }\n",
       "\n",
       "    .dataframe tbody tr th {\n",
       "        vertical-align: top;\n",
       "    }\n",
       "\n",
       "    .dataframe thead th {\n",
       "        text-align: right;\n",
       "    }\n",
       "</style>\n",
       "<table border=\"1\" class=\"dataframe\">\n",
       "  <thead>\n",
       "    <tr style=\"text-align: right;\">\n",
       "      <th></th>\n",
       "      <th>B</th>\n",
       "    </tr>\n",
       "  </thead>\n",
       "  <tbody>\n",
       "    <tr>\n",
       "      <th>0</th>\n",
       "      <td>0</td>\n",
       "    </tr>\n",
       "    <tr>\n",
       "      <th>1</th>\n",
       "      <td>1</td>\n",
       "    </tr>\n",
       "    <tr>\n",
       "      <th>2</th>\n",
       "      <td>2</td>\n",
       "    </tr>\n",
       "    <tr>\n",
       "      <th>3</th>\n",
       "      <td>3</td>\n",
       "    </tr>\n",
       "    <tr>\n",
       "      <th>4</th>\n",
       "      <td>5</td>\n",
       "    </tr>\n",
       "  </tbody>\n",
       "</table>\n",
       "</div>"
      ],
      "text/plain": [
       "   B\n",
       "0  0\n",
       "1  1\n",
       "2  2\n",
       "3  3\n",
       "4  5"
      ]
     },
     "execution_count": 159,
     "metadata": {},
     "output_type": "execute_result"
    }
   ],
   "source": [
    "a = pd.DataFrame({'B': [0, 1, 2, 3, 5]})\n",
    "a"
   ]
  },
  {
   "cell_type": "code",
   "execution_count": 183,
   "id": "54aaaeb3",
   "metadata": {},
   "outputs": [
    {
     "data": {
      "text/plain": [
       "array([1, 2])"
      ]
     },
     "execution_count": 183,
     "metadata": {},
     "output_type": "execute_result"
    }
   ],
   "source": [
    "b = np.arange(1, 3)\n",
    "b"
   ]
  },
  {
   "cell_type": "code",
   "execution_count": 196,
   "id": "41608bc3",
   "metadata": {},
   "outputs": [],
   "source": [
    "linear = lambda x: np.dot(x, b)"
   ]
  },
  {
   "cell_type": "code",
   "execution_count": null,
   "id": "6147d5e0",
   "metadata": {},
   "outputs": [],
   "source": []
  },
  {
   "cell_type": "code",
   "execution_count": null,
   "id": "bf11037f",
   "metadata": {},
   "outputs": [],
   "source": []
  },
  {
   "cell_type": "code",
   "execution_count": null,
   "id": "9ea660ff",
   "metadata": {},
   "outputs": [],
   "source": []
  },
  {
   "cell_type": "code",
   "execution_count": null,
   "id": "b6c635f1",
   "metadata": {},
   "outputs": [],
   "source": []
  },
  {
   "cell_type": "code",
   "execution_count": null,
   "id": "456d4b00",
   "metadata": {},
   "outputs": [],
   "source": []
  },
  {
   "cell_type": "code",
   "execution_count": null,
   "id": "232b73d7",
   "metadata": {},
   "outputs": [],
   "source": []
  },
  {
   "cell_type": "code",
   "execution_count": null,
   "id": "2da54de9",
   "metadata": {},
   "outputs": [],
   "source": []
  },
  {
   "cell_type": "code",
   "execution_count": null,
   "id": "96dab091",
   "metadata": {},
   "outputs": [],
   "source": []
  },
  {
   "cell_type": "code",
   "execution_count": null,
   "id": "1e87c73f",
   "metadata": {},
   "outputs": [],
   "source": []
  },
  {
   "cell_type": "code",
   "execution_count": null,
   "id": "04cb9b02",
   "metadata": {},
   "outputs": [],
   "source": []
  },
  {
   "cell_type": "code",
   "execution_count": null,
   "id": "6e3a1db4",
   "metadata": {},
   "outputs": [],
   "source": []
  },
  {
   "cell_type": "markdown",
   "id": "7b95e17b",
   "metadata": {},
   "source": [
    "## Backtesting"
   ]
  },
  {
   "cell_type": "markdown",
   "id": "ca331e93",
   "metadata": {},
   "source": [
    "```\n",
    "def strategy_performance(symbol, interval, starttime, endtime, strategy, para..., output=[drawdown, profit...]):\n",
    "    return summary[output], graph \n",
    "```"
   ]
  },
  {
   "cell_type": "code",
   "execution_count": null,
   "id": "a9a76ed5",
   "metadata": {},
   "outputs": [],
   "source": []
  },
  {
   "cell_type": "code",
   "execution_count": null,
   "id": "4f561485",
   "metadata": {},
   "outputs": [],
   "source": []
  },
  {
   "cell_type": "markdown",
   "id": "0ecfc16d",
   "metadata": {},
   "source": [
    "## Optimization"
   ]
  },
  {
   "cell_type": "markdown",
   "id": "ab789b74",
   "metadata": {},
   "source": [
    "```\n",
    "def strategy_optimization(symbol, interval, starttime, endtime, strategy, para..., \n",
    "                          output=[drawdown, profit...], method[exhaustive, genetic, bp]):\n",
    "    return para, output\n",
    "```"
   ]
  },
  {
   "cell_type": "code",
   "execution_count": null,
   "id": "856d41b6",
   "metadata": {},
   "outputs": [],
   "source": []
  },
  {
   "cell_type": "code",
   "execution_count": null,
   "id": "dc2b398f",
   "metadata": {},
   "outputs": [],
   "source": []
  },
  {
   "cell_type": "markdown",
   "id": "2a121303",
   "metadata": {},
   "source": [
    "## Send Order"
   ]
  },
  {
   "cell_type": "markdown",
   "id": "889106ac",
   "metadata": {},
   "source": [
    "傳送下單資訊，收取下單回報，追蹤order狀況"
   ]
  },
  {
   "cell_type": "code",
   "execution_count": null,
   "id": "11b4b1a3",
   "metadata": {},
   "outputs": [],
   "source": []
  },
  {
   "cell_type": "code",
   "execution_count": null,
   "id": "a81cfcc1",
   "metadata": {},
   "outputs": [],
   "source": []
  },
  {
   "cell_type": "code",
   "execution_count": null,
   "id": "c5d48a06",
   "metadata": {},
   "outputs": [],
   "source": []
  },
  {
   "cell_type": "code",
   "execution_count": null,
   "id": "a04d70da",
   "metadata": {},
   "outputs": [],
   "source": []
  },
  {
   "cell_type": "code",
   "execution_count": null,
   "id": "2a08406a",
   "metadata": {},
   "outputs": [],
   "source": []
  }
 ],
 "metadata": {
  "kernelspec": {
   "display_name": "Python 3 (ipykernel)",
   "language": "python",
   "name": "python3"
  },
  "language_info": {
   "codemirror_mode": {
    "name": "ipython",
    "version": 3
   },
   "file_extension": ".py",
   "mimetype": "text/x-python",
   "name": "python",
   "nbconvert_exporter": "python",
   "pygments_lexer": "ipython3",
   "version": "3.9.12"
  }
 },
 "nbformat": 4,
 "nbformat_minor": 5
}
